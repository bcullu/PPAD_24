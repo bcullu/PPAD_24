{
 "cells": [
  {
   "cell_type": "markdown",
   "metadata": {},
   "source": [
    "# MYSQL Bağlantısı #"
   ]
  },
  {
   "cell_type": "code",
   "execution_count": 1,
   "metadata": {},
   "outputs": [
    {
     "name": "stderr",
     "output_type": "stream",
     "text": [
      "/var/folders/lt/c4_r66fj0q93tkhkdytt2nx00000gn/T/ipykernel_33546/10537869.py:16: UserWarning: pandas only supports SQLAlchemy connectable (engine/connection) or database string URI or sqlite3 DBAPI2 connection. Other DBAPI2 objects are not tested. Please consider using SQLAlchemy.\n",
      "  df_hotels = pd.read_sql(query_hotels, conn)\n",
      "/var/folders/lt/c4_r66fj0q93tkhkdytt2nx00000gn/T/ipykernel_33546/10537869.py:17: UserWarning: pandas only supports SQLAlchemy connectable (engine/connection) or database string URI or sqlite3 DBAPI2 connection. Other DBAPI2 objects are not tested. Please consider using SQLAlchemy.\n",
      "  df_reviews = pd.read_sql(query_reviews, conn)\n"
     ]
    }
   ],
   "source": [
    "import pymysql\n",
    "import os\n",
    "import pandas as pd\n",
    "\n",
    "# Veritabanına bağlan\n",
    "conn = pymysql.connect(\n",
    "    host=\"localhost\",\n",
    "    user=\"root\",\n",
    "    password= os.getenv('MYSQL_PASS'),\n",
    "    database=\"otel_deneme\"\n",
    ")\n",
    "\n",
    "query_hotels = \"SELECT vendor_id, otel_adi FROM otel_deneme.alanya_oteller\"\n",
    "query_reviews = \"SELECT * FROM otel_deneme.alanya_yorumlar\"\n",
    "\n",
    "df_hotels = pd.read_sql(query_hotels, conn)\n",
    "df_reviews = pd.read_sql(query_reviews, conn)\n",
    "# Bağlantıyı kapat\n",
    "conn.close()\n"
   ]
  },
  {
   "cell_type": "code",
   "execution_count": 2,
   "metadata": {},
   "outputs": [],
   "source": [
    "df_reviews.rename(columns={'vendorId':'vendor_id'}, inplace=True)\n",
    "#df_reviews.rename(columns={'hotelName':'hotelN'}, inplace=True)"
   ]
  },
  {
   "cell_type": "code",
   "execution_count": 3,
   "metadata": {},
   "outputs": [],
   "source": [
    "df_reviews = df_reviews.merge(df_hotels, on='vendor_id', how='left')"
   ]
  },
  {
   "cell_type": "code",
   "execution_count": 4,
   "metadata": {},
   "outputs": [],
   "source": [
    "df_reviews.drop('hotelName', axis=1,  inplace=True)"
   ]
  },
  {
   "cell_type": "code",
   "execution_count": 6,
   "metadata": {},
   "outputs": [
    {
     "name": "stdout",
     "output_type": "stream",
     "text": [
      "                   otel_adi                                               body\n",
      "0      Orange County Alanya  Çok kötü bir deneyim yaşadım. Yemekler berbatt...\n",
      "1      Orange County Alanya  Çok memnun kaldım, eşim de çok beğendi, özelli...\n",
      "2      Orange County Alanya  Otel gayet güzeldi, keyif aldık. Odanın konfor...\n",
      "3      Orange County Alanya  Manzarası konumu ve hizmetleri çok guzel. Odal...\n",
      "4      Orange County Alanya  Herşeyden çok memnunum. İlk kez geliyoruz. Dil...\n",
      "...                     ...                                                ...\n",
      "83531        Eftalia Marin   Otel a dan z ye herseyiyle muhteşem.. Animasyo...\n",
      "83532        Eftalia Marin   Öncelikle tesiste pandemi hakkında tüm önlemle...\n",
      "83533        Eftalia Marin   Konsept olarak güzel bir otel. Tüm günümüzü ef...\n",
      "83534        Eftalia Marin   Otel genel anlamda güzeldi . Özellikle animasy...\n",
      "83535        Eftalia Marin   Çok büyük bir otel öncelikle herkese tavsiye e...\n",
      "\n",
      "[83536 rows x 2 columns]\n"
     ]
    }
   ],
   "source": [
    "df_filtered = df_reviews.filter(items=['otel_adi', 'body'])\n",
    "print(df_filtered)"
   ]
  },
  {
   "cell_type": "code",
   "execution_count": 7,
   "metadata": {},
   "outputs": [],
   "source": [
    "df_filtered.to_pickle('veri.pkl')"
   ]
  }
 ],
 "metadata": {
  "kernelspec": {
   "display_name": ".venv",
   "language": "python",
   "name": "python3"
  },
  "language_info": {
   "codemirror_mode": {
    "name": "ipython",
    "version": 3
   },
   "file_extension": ".py",
   "mimetype": "text/x-python",
   "name": "python",
   "nbconvert_exporter": "python",
   "pygments_lexer": "ipython3",
   "version": "3.9.6"
  }
 },
 "nbformat": 4,
 "nbformat_minor": 2
}
